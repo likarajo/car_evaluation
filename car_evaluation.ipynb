{
 "cells": [
  {
   "cell_type": "markdown",
   "metadata": {},
   "source": [
    "## Import Dataset\n",
    "* Columns\n",
    "  * **prc**: the buying price of the car)\n",
    "  * **mnt**:  the maintenance cost\n",
    "  * **drs**: number of doors\n",
    "  * **prsn**: the seating capacity\n",
    "  * **lug**: the luggage capacity\n",
    "  * **sft**: measure of how safe the car is\n",
    "  * **output**: the condition of the car"
   ]
  },
  {
   "cell_type": "code",
   "execution_count": 1,
   "metadata": {},
   "outputs": [
    {
     "name": "stdout",
     "output_type": "stream",
     "text": [
      "1728 records\n"
     ]
    },
    {
     "data": {
      "text/html": [
       "<div>\n",
       "<style scoped>\n",
       "    .dataframe tbody tr th:only-of-type {\n",
       "        vertical-align: middle;\n",
       "    }\n",
       "\n",
       "    .dataframe tbody tr th {\n",
       "        vertical-align: top;\n",
       "    }\n",
       "\n",
       "    .dataframe thead th {\n",
       "        text-align: right;\n",
       "    }\n",
       "</style>\n",
       "<table border=\"1\" class=\"dataframe\">\n",
       "  <thead>\n",
       "    <tr style=\"text-align: right;\">\n",
       "      <th></th>\n",
       "      <th>prc</th>\n",
       "      <th>mnt</th>\n",
       "      <th>drs</th>\n",
       "      <th>prsn</th>\n",
       "      <th>lug</th>\n",
       "      <th>sft</th>\n",
       "      <th>output</th>\n",
       "    </tr>\n",
       "  </thead>\n",
       "  <tbody>\n",
       "    <tr>\n",
       "      <th>0</th>\n",
       "      <td>vhigh</td>\n",
       "      <td>vhigh</td>\n",
       "      <td>2</td>\n",
       "      <td>2</td>\n",
       "      <td>small</td>\n",
       "      <td>low</td>\n",
       "      <td>unacc</td>\n",
       "    </tr>\n",
       "    <tr>\n",
       "      <th>1</th>\n",
       "      <td>vhigh</td>\n",
       "      <td>vhigh</td>\n",
       "      <td>2</td>\n",
       "      <td>2</td>\n",
       "      <td>small</td>\n",
       "      <td>med</td>\n",
       "      <td>unacc</td>\n",
       "    </tr>\n",
       "    <tr>\n",
       "      <th>2</th>\n",
       "      <td>vhigh</td>\n",
       "      <td>vhigh</td>\n",
       "      <td>2</td>\n",
       "      <td>2</td>\n",
       "      <td>small</td>\n",
       "      <td>high</td>\n",
       "      <td>unacc</td>\n",
       "    </tr>\n",
       "    <tr>\n",
       "      <th>3</th>\n",
       "      <td>vhigh</td>\n",
       "      <td>vhigh</td>\n",
       "      <td>2</td>\n",
       "      <td>2</td>\n",
       "      <td>med</td>\n",
       "      <td>low</td>\n",
       "      <td>unacc</td>\n",
       "    </tr>\n",
       "    <tr>\n",
       "      <th>4</th>\n",
       "      <td>vhigh</td>\n",
       "      <td>vhigh</td>\n",
       "      <td>2</td>\n",
       "      <td>2</td>\n",
       "      <td>med</td>\n",
       "      <td>med</td>\n",
       "      <td>unacc</td>\n",
       "    </tr>\n",
       "  </tbody>\n",
       "</table>\n",
       "</div>"
      ],
      "text/plain": [
       "     prc    mnt drs prsn    lug   sft output\n",
       "0  vhigh  vhigh   2    2  small   low  unacc\n",
       "1  vhigh  vhigh   2    2  small   med  unacc\n",
       "2  vhigh  vhigh   2    2  small  high  unacc\n",
       "3  vhigh  vhigh   2    2    med   low  unacc\n",
       "4  vhigh  vhigh   2    2    med   med  unacc"
      ]
     },
     "execution_count": 1,
     "metadata": {},
     "output_type": "execute_result"
    }
   ],
   "source": [
    "import pandas as pd\n",
    "\n",
    "data = pd.read_csv('data/car_evaluation.csv', header=None,\n",
    "                  names=['prc','mnt','drs','prsn','lug','sft','output'])\n",
    "print(data.shape[0], 'records')\n",
    "data.head()"
   ]
  },
  {
   "cell_type": "markdown",
   "metadata": {},
   "source": [
    "## Data Analysis"
   ]
  },
  {
   "cell_type": "markdown",
   "metadata": {},
   "source": [
    "### Distribution of output"
   ]
  },
  {
   "cell_type": "code",
   "execution_count": 2,
   "metadata": {},
   "outputs": [
    {
     "data": {
      "text/plain": [
       "<matplotlib.axes._subplots.AxesSubplot at 0x113d9df60>"
      ]
     },
     "execution_count": 2,
     "metadata": {},
     "output_type": "execute_result"
    },
    {
     "data": {
      "image/png": "[encoded data removed]",
      "text/plain": [
       "<Figure size 576x432 with 1 Axes>"
      ]
     },
     "metadata": {},
     "output_type": "display_data"
    }
   ],
   "source": [
    "import matplotlib.pyplot as plt\n",
    "\n",
    "plt.rcParams[\"figure.figsize\"][0] = 8\n",
    "plt.rcParams[\"figure.figsize\"][1] = 6\n",
    "\n",
    "data.output.value_counts().plot(kind='pie', autopct='%0.05f%%')"
   ]
  },
  {
   "cell_type": "markdown",
   "metadata": {},
   "source": [
    "### Distribution of values for each feature"
   ]
  },
  {
   "cell_type": "code",
   "execution_count": 3,
   "metadata": {},
   "outputs": [
    {
     "data": {
      "text/plain": [
       "<matplotlib.axes._subplots.AxesSubplot at 0x115e67048>"
      ]
     },
     "execution_count": 3,
     "metadata": {},
     "output_type": "execute_result"
    },
    {
     "data": {
      "image/png": "[encoded data removed]",
      "text/plain": [
       "<Figure size 576x432 with 1 Axes>"
      ]
     },
     "metadata": {},
     "output_type": "display_data"
    }
   ],
   "source": [
    "data.prc.value_counts().plot(kind='pie', autopct='%0.2f%%')"
   ]
  },
  {
   "cell_type": "code",
   "execution_count": 4,
   "metadata": {},
   "outputs": [
    {
     "data": {
      "text/plain": [
       "<matplotlib.axes._subplots.AxesSubplot at 0x115e9f9e8>"
      ]
     },
     "execution_count": 4,
     "metadata": {},
     "output_type": "execute_result"
    },
    {
     "data": {
      "image/png": "[encoded data removed]",
      "text/plain": [
       "<Figure size 576x432 with 1 Axes>"
      ]
     },
     "metadata": {},
     "output_type": "display_data"
    }
   ],
   "source": [
    "data.mnt.value_counts().plot(kind='pie', autopct='%0.2f%%')"
   ]
  },
  {
   "cell_type": "code",
   "execution_count": 5,
   "metadata": {},
   "outputs": [
    {
     "data": {
      "text/plain": [
       "<matplotlib.axes._subplots.AxesSubplot at 0x115f13198>"
      ]
     },
     "execution_count": 5,
     "metadata": {},
     "output_type": "execute_result"
    },
    {
     "data": {
      "image/png": "[encoded data removed]",
      "text/plain": [
       "<Figure size 576x432 with 1 Axes>"
      ]
     },
     "metadata": {},
     "output_type": "display_data"
    }
   ],
   "source": [
    "data.drs.value_counts().plot(kind='pie', autopct='%0.2f%%')"
   ]
  },
  {
   "cell_type": "code",
   "execution_count": 6,
   "metadata": {},
   "outputs": [
    {
     "data": {
      "text/plain": [
       "<matplotlib.axes._subplots.AxesSubplot at 0x115f690b8>"
      ]
     },
     "execution_count": 6,
     "metadata": {},
     "output_type": "execute_result"
    },
    {
     "data": {
      "image/png": "[encoded data removed]",
      "text/plain": [
       "<Figure size 576x432 with 1 Axes>"
      ]
     },
     "metadata": {},
     "output_type": "display_data"
    }
   ],
   "source": [
    "data.prsn.value_counts().plot(kind='pie', autopct='%0.2f%%')"
   ]
  },
  {
   "cell_type": "code",
   "execution_count": 7,
   "metadata": {},
   "outputs": [
    {
     "data": {
      "text/plain": [
       "<matplotlib.axes._subplots.AxesSubplot at 0x115fb58d0>"
      ]
     },
     "execution_count": 7,
     "metadata": {},
     "output_type": "execute_result"
    },
    {
     "data": {
      "image/png": "[encoded data removed]",
      "text/plain": [
       "<Figure size 576x432 with 1 Axes>"
      ]
     },
     "metadata": {},
     "output_type": "display_data"
    }
   ],
   "source": [
    "data.lug.value_counts().plot(kind='pie', autopct='%0.2f%%')"
   ]
  },
  {
   "cell_type": "code",
   "execution_count": 8,
   "metadata": {},
   "outputs": [
    {
     "data": {
      "text/plain": [
       "<matplotlib.axes._subplots.AxesSubplot at 0x116072940>"
      ]
     },
     "execution_count": 8,
     "metadata": {},
     "output_type": "execute_result"
    },
    {
     "data": {
      "image/png": "[encoded data removed]",
      "text/plain": [
       "<Figure size 576x432 with 1 Axes>"
      ]
     },
     "metadata": {},
     "output_type": "display_data"
    }
   ],
   "source": [
    "data.sft.value_counts().plot(kind='pie', autopct='%0.2f%%')"
   ]
  },
  {
   "cell_type": "markdown",
   "metadata": {},
   "source": [
    "## Data Preprocessing\n",
    "\n",
    "All the features are categorical\n",
    "\n",
    "* Convert the categorical columns into numeric\n",
    "  * ***One-hot encoding***: For each unique value in the categorical column, a new column is created. For the rows in the actual column where the unique value existed, a 1 is added to the corresponding row of the column created for that particular value. \n",
    "* Prepare features and labels"
   ]
  },
  {
   "cell_type": "code",
   "execution_count": 9,
   "metadata": {},
   "outputs": [
    {
     "data": {
      "text/html": [
       "<div>\n",
       "<style scoped>\n",
       "    .dataframe tbody tr th:only-of-type {\n",
       "        vertical-align: middle;\n",
       "    }\n",
       "\n",
       "    .dataframe tbody tr th {\n",
       "        vertical-align: top;\n",
       "    }\n",
       "\n",
       "    .dataframe thead th {\n",
       "        text-align: right;\n",
       "    }\n",
       "</style>\n",
       "<table border=\"1\" class=\"dataframe\">\n",
       "  <thead>\n",
       "    <tr style=\"text-align: right;\">\n",
       "      <th></th>\n",
       "      <th>condition_high</th>\n",
       "      <th>condition_low</th>\n",
       "      <th>condition_med</th>\n",
       "    </tr>\n",
       "  </thead>\n",
       "  <tbody>\n",
       "    <tr>\n",
       "      <th>0</th>\n",
       "      <td>0</td>\n",
       "      <td>1</td>\n",
       "      <td>0</td>\n",
       "    </tr>\n",
       "    <tr>\n",
       "      <th>1</th>\n",
       "      <td>0</td>\n",
       "      <td>0</td>\n",
       "      <td>1</td>\n",
       "    </tr>\n",
       "    <tr>\n",
       "      <th>2</th>\n",
       "      <td>1</td>\n",
       "      <td>0</td>\n",
       "      <td>0</td>\n",
       "    </tr>\n",
       "    <tr>\n",
       "      <th>3</th>\n",
       "      <td>0</td>\n",
       "      <td>1</td>\n",
       "      <td>0</td>\n",
       "    </tr>\n",
       "    <tr>\n",
       "      <th>4</th>\n",
       "      <td>0</td>\n",
       "      <td>0</td>\n",
       "      <td>1</td>\n",
       "    </tr>\n",
       "  </tbody>\n",
       "</table>\n",
       "</div>"
      ],
      "text/plain": [
       "   condition_high  condition_low  condition_med\n",
       "0               0              1              0\n",
       "1               0              0              1\n",
       "2               1              0              0\n",
       "3               0              1              0\n",
       "4               0              0              1"
      ]
     },
     "execution_count": 9,
     "metadata": {},
     "output_type": "execute_result"
    }
   ],
   "source": [
    "price = pd.get_dummies(data.prc, prefix='price')\n",
    "maint = pd.get_dummies(data.mnt, prefix='maint')\n",
    "doors = pd.get_dummies(data.drs, prefix='doors')\n",
    "persons = pd.get_dummies(data.prsn, prefix='persons')\n",
    "lugcap = pd.get_dummies(data.lug, prefix='lugcap')\n",
    "safety = pd.get_dummies(data.sft, prefix='safety')\n",
    "labels = pd.get_dummies(data.sft, prefix='condition')\n",
    "\n",
    "labels.head()"
   ]
  },
  {
   "cell_type": "code",
   "execution_count": 10,
   "metadata": {},
   "outputs": [],
   "source": [
    "X = pd.concat([price, maint, doors, persons, lugcap, safety], axis=1)\n",
    "y = labels.values"
   ]
  },
  {
   "cell_type": "markdown",
   "metadata": {},
   "source": [
    "## Split data into Training and Test sets"
   ]
  },
  {
   "cell_type": "code",
   "execution_count": 11,
   "metadata": {},
   "outputs": [
    {
     "name": "stdout",
     "output_type": "stream",
     "text": [
      "Training set: 1382\n",
      "Test set: 346\n"
     ]
    }
   ],
   "source": [
    "from sklearn.model_selection import train_test_split\n",
    "\n",
    "X_trn, X_tst, y_trn, y_tst = train_test_split(X, y, test_size=0.2, random_state=42)\n",
    "\n",
    "print('Training set:', len(X_trn))\n",
    "print('Test set:', len(X_tst))"
   ]
  },
  {
   "cell_type": "markdown",
   "metadata": {},
   "source": [
    "## Create model\n",
    "* Using **Keras** functional API\n",
    "* Input layer\n",
    "* 2 Hidden layers with 15 and 10 neurons respoectively and ReLU activation function\n",
    "* Output with 4 neurons for 4 label values and Softmax activation function\n",
    "* Loss function = categorical cross-entropy\n",
    "* Optimizer = Adam\n",
    "* Evaluation metric = accuracy"
   ]
  },
  {
   "cell_type": "code",
   "execution_count": 12,
   "metadata": {},
   "outputs": [
    {
     "name": "stdout",
     "output_type": "stream",
     "text": [
      "Model: \"model\"\n",
      "_________________________________________________________________\n",
      "Layer (type)                 Output Shape              Param #   \n",
      "=================================================================\n",
      "input_1 (InputLayer)         [(None, 21)]              0         \n",
      "_________________________________________________________________\n",
      "dense (Dense)                (None, 15)                330       \n",
      "_________________________________________________________________\n",
      "dense_1 (Dense)              (None, 10)                160       \n",
      "_________________________________________________________________\n",
      "dense_2 (Dense)              (None, 3)                 33        \n",
      "=================================================================\n",
      "Total params: 523\n",
      "Trainable params: 523\n",
      "Non-trainable params: 0\n",
      "_________________________________________________________________\n",
      "None\n"
     ]
    }
   ],
   "source": [
    "from tensorflow.keras.layers import Input, Dense\n",
    "from tensorflow.keras.models import Model\n",
    "\n",
    "input_layer = Input(shape=(X.shape[1],))\n",
    "dense_layer_1 = Dense(15, activation='relu')(input_layer)\n",
    "dense_layer_2 = Dense(10, activation='relu')(dense_layer_1)\n",
    "output = Dense(y.shape[1], activation='softmax')(dense_layer_2)\n",
    "\n",
    "model = Model(inputs=input_layer, outputs=output)\n",
    "model.compile(loss='categorical_crossentropy', optimizer='adam', metrics=['acc'])\n",
    "\n",
    "print(model.summary())"
   ]
  },
  {
   "cell_type": "markdown",
   "metadata": {},
   "source": [
    "## Train the model\n",
    "* Epochs = 100\n",
    "* Validation data = 20% of training data"
   ]
  },
  {
   "cell_type": "code",
   "execution_count": 13,
   "metadata": {},
   "outputs": [
    {
     "name": "stdout",
     "output_type": "stream",
     "text": [
      "WARNING:tensorflow:Falling back from v2 loop because of error: Failed to find data adapter that can handle input: <class 'pandas.core.frame.DataFrame'>, <class 'NoneType'>\n",
      "Train on 1105 samples, validate on 277 samples\n",
      "Epoch 1/100\n",
      "1105/1105 [==============================] - 0s 278us/sample - loss: 1.0995 - acc: 0.4344 - val_loss: 0.9530 - val_acc: 0.5993\n",
      "Epoch 2/100\n",
      "1105/1105 [==============================] - 0s 157us/sample - loss: 0.7267 - acc: 0.7394 - val_loss: 0.3650 - val_acc: 0.9819\n",
      "Epoch 3/100\n",
      "1105/1105 [==============================] - 0s 152us/sample - loss: 0.1658 - acc: 0.9973 - val_loss: 0.0491 - val_acc: 1.0000\n",
      "Epoch 4/100\n",
      "1105/1105 [==============================] - 0s 150us/sample - loss: 0.0290 - acc: 1.0000 - val_loss: 0.0150 - val_acc: 1.0000\n",
      "Epoch 5/100\n",
      "1105/1105 [==============================] - 0s 161us/sample - loss: 0.0109 - acc: 1.0000 - val_loss: 0.0071 - val_acc: 1.0000\n",
      "Epoch 6/100\n",
      "1105/1105 [==============================] - 0s 167us/sample - loss: 0.0058 - acc: 1.0000 - val_loss: 0.0042 - val_acc: 1.0000\n",
      "Epoch 7/100\n",
      "1105/1105 [==============================] - 0s 160us/sample - loss: 0.0036 - acc: 1.0000 - val_loss: 0.0028 - val_acc: 1.0000\n",
      "Epoch 8/100\n",
      "1105/1105 [==============================] - 0s 173us/sample - loss: 0.0025 - acc: 1.0000 - val_loss: 0.0020 - val_acc: 1.0000\n",
      "Epoch 9/100\n",
      "1105/1105 [==============================] - 0s 159us/sample - loss: 0.0018 - acc: 1.0000 - val_loss: 0.0014 - val_acc: 1.0000\n",
      "Epoch 10/100\n",
      "1105/1105 [==============================] - 0s 154us/sample - loss: 0.0014 - acc: 1.0000 - val_loss: 0.0011 - val_acc: 1.0000\n",
      "Epoch 11/100\n",
      "1105/1105 [==============================] - 0s 140us/sample - loss: 0.0011 - acc: 1.0000 - val_loss: 8.8355e-04 - val_acc: 1.0000\n",
      "Epoch 12/100\n",
      "1105/1105 [==============================] - 0s 149us/sample - loss: 8.4388e-04 - acc: 1.0000 - val_loss: 7.1331e-04 - val_acc: 1.0000\n",
      "Epoch 13/100\n",
      "1105/1105 [==============================] - 0s 148us/sample - loss: 6.8745e-04 - acc: 1.0000 - val_loss: 5.8528e-04 - val_acc: 1.0000\n",
      "Epoch 14/100\n",
      "1105/1105 [==============================] - 0s 170us/sample - loss: 5.6841e-04 - acc: 1.0000 - val_loss: 4.8836e-04 - val_acc: 1.0000\n",
      "Epoch 15/100\n",
      "1105/1105 [==============================] - 0s 157us/sample - loss: 4.7621e-04 - acc: 1.0000 - val_loss: 4.1113e-04 - val_acc: 1.0000\n",
      "Epoch 16/100\n",
      "1105/1105 [==============================] - 0s 172us/sample - loss: 4.0276e-04 - acc: 1.0000 - val_loss: 3.4952e-04 - val_acc: 1.0000\n",
      "Epoch 17/100\n",
      "1105/1105 [==============================] - 0s 155us/sample - loss: 3.4434e-04 - acc: 1.0000 - val_loss: 3.0052e-04 - val_acc: 1.0000\n",
      "Epoch 18/100\n",
      "1105/1105 [==============================] - 0s 150us/sample - loss: 2.9667e-04 - acc: 1.0000 - val_loss: 2.5956e-04 - val_acc: 1.0000\n",
      "Epoch 19/100\n",
      "1105/1105 [==============================] - 0s 180us/sample - loss: 2.5669e-04 - acc: 1.0000 - val_loss: 2.2574e-04 - val_acc: 1.0000\n",
      "Epoch 20/100\n",
      "1105/1105 [==============================] - 0s 157us/sample - loss: 2.2383e-04 - acc: 1.0000 - val_loss: 1.9741e-04 - val_acc: 1.0000\n",
      "Epoch 21/100\n",
      "1105/1105 [==============================] - 0s 160us/sample - loss: 1.9612e-04 - acc: 1.0000 - val_loss: 1.7342e-04 - val_acc: 1.0000\n",
      "Epoch 22/100\n",
      "1105/1105 [==============================] - 0s 179us/sample - loss: 1.7263e-04 - acc: 1.0000 - val_loss: 1.5334e-04 - val_acc: 1.0000\n",
      "Epoch 23/100\n",
      "1105/1105 [==============================] - 0s 160us/sample - loss: 1.5261e-04 - acc: 1.0000 - val_loss: 1.3603e-04 - val_acc: 1.0000\n",
      "Epoch 24/100\n",
      "1105/1105 [==============================] - 0s 139us/sample - loss: 1.3534e-04 - acc: 1.0000 - val_loss: 1.2087e-04 - val_acc: 1.0000\n",
      "Epoch 25/100\n",
      "1105/1105 [==============================] - 0s 143us/sample - loss: 1.2046e-04 - acc: 1.0000 - val_loss: 1.0792e-04 - val_acc: 1.0000\n",
      "Epoch 26/100\n",
      "1105/1105 [==============================] - 0s 145us/sample - loss: 1.0756e-04 - acc: 1.0000 - val_loss: 9.6598e-05 - val_acc: 1.0000\n",
      "Epoch 27/100\n",
      "1105/1105 [==============================] - 0s 156us/sample - loss: 9.6086e-05 - acc: 1.0000 - val_loss: 8.6577e-05 - val_acc: 1.0000\n",
      "Epoch 28/100\n",
      "1105/1105 [==============================] - 0s 141us/sample - loss: 8.6126e-05 - acc: 1.0000 - val_loss: 7.7763e-05 - val_acc: 1.0000\n",
      "Epoch 29/100\n",
      "1105/1105 [==============================] - 0s 140us/sample - loss: 7.7428e-05 - acc: 1.0000 - val_loss: 7.0073e-05 - val_acc: 1.0000\n",
      "Epoch 30/100\n",
      "1105/1105 [==============================] - 0s 142us/sample - loss: 6.9744e-05 - acc: 1.0000 - val_loss: 6.3196e-05 - val_acc: 1.0000\n",
      "Epoch 31/100\n",
      "1105/1105 [==============================] - 0s 150us/sample - loss: 6.2944e-05 - acc: 1.0000 - val_loss: 5.7167e-05 - val_acc: 1.0000\n",
      "Epoch 32/100\n",
      "1105/1105 [==============================] - 0s 165us/sample - loss: 5.6850e-05 - acc: 1.0000 - val_loss: 5.1729e-05 - val_acc: 1.0000\n",
      "Epoch 33/100\n",
      "1105/1105 [==============================] - 0s 166us/sample - loss: 5.1462e-05 - acc: 1.0000 - val_loss: 4.6911e-05 - val_acc: 1.0000\n",
      "Epoch 34/100\n",
      "1105/1105 [==============================] - 0s 165us/sample - loss: 4.6649e-05 - acc: 1.0000 - val_loss: 4.2611e-05 - val_acc: 1.0000\n",
      "Epoch 35/100\n",
      "1105/1105 [==============================] - 0s 181us/sample - loss: 4.2308e-05 - acc: 1.0000 - val_loss: 3.8692e-05 - val_acc: 1.0000\n",
      "Epoch 36/100\n",
      "1105/1105 [==============================] - 0s 168us/sample - loss: 3.8450e-05 - acc: 1.0000 - val_loss: 3.5186e-05 - val_acc: 1.0000\n",
      "Epoch 37/100\n",
      "1105/1105 [==============================] - 0s 159us/sample - loss: 3.4987e-05 - acc: 1.0000 - val_loss: 3.2086e-05 - val_acc: 1.0000\n",
      "Epoch 38/100\n",
      "1105/1105 [==============================] - 0s 173us/sample - loss: 3.1867e-05 - acc: 1.0000 - val_loss: 2.9262e-05 - val_acc: 1.0000\n",
      "Epoch 39/100\n",
      "1105/1105 [==============================] - 0s 175us/sample - loss: 2.9049e-05 - acc: 1.0000 - val_loss: 2.6712e-05 - val_acc: 1.0000\n",
      "Epoch 40/100\n",
      "1105/1105 [==============================] - 0s 167us/sample - loss: 2.6528e-05 - acc: 1.0000 - val_loss: 2.4413e-05 - val_acc: 1.0000\n",
      "Epoch 41/100\n",
      "1105/1105 [==============================] - 0s 174us/sample - loss: 2.4238e-05 - acc: 1.0000 - val_loss: 2.2322e-05 - val_acc: 1.0000\n",
      "Epoch 42/100\n",
      "1105/1105 [==============================] - 0s 166us/sample - loss: 2.2154e-05 - acc: 1.0000 - val_loss: 2.0430e-05 - val_acc: 1.0000\n",
      "Epoch 43/100\n",
      "1105/1105 [==============================] - 0s 139us/sample - loss: 2.0267e-05 - acc: 1.0000 - val_loss: 1.8692e-05 - val_acc: 1.0000\n",
      "Epoch 44/100\n",
      "1105/1105 [==============================] - 0s 138us/sample - loss: 1.8551e-05 - acc: 1.0000 - val_loss: 1.7130e-05 - val_acc: 1.0000\n",
      "Epoch 45/100\n",
      "1105/1105 [==============================] - 0s 140us/sample - loss: 1.6997e-05 - acc: 1.0000 - val_loss: 1.5697e-05 - val_acc: 1.0000\n",
      "Epoch 46/100\n",
      "1105/1105 [==============================] - 0s 150us/sample - loss: 1.5572e-05 - acc: 1.0000 - val_loss: 1.4385e-05 - val_acc: 1.0000\n",
      "Epoch 47/100\n",
      "1105/1105 [==============================] - 0s 139us/sample - loss: 1.4278e-05 - acc: 1.0000 - val_loss: 1.3209e-05 - val_acc: 1.0000\n",
      "Epoch 48/100\n",
      "1105/1105 [==============================] - 0s 156us/sample - loss: 1.3096e-05 - acc: 1.0000 - val_loss: 1.2140e-05 - val_acc: 1.0000\n",
      "Epoch 49/100\n",
      "1105/1105 [==============================] - 0s 180us/sample - loss: 1.2012e-05 - acc: 1.0000 - val_loss: 1.1132e-05 - val_acc: 1.0000\n",
      "Epoch 50/100\n",
      "1105/1105 [==============================] - 0s 185us/sample - loss: 1.1028e-05 - acc: 1.0000 - val_loss: 1.0229e-05 - val_acc: 1.0000\n",
      "Epoch 51/100\n",
      "1105/1105 [==============================] - 0s 148us/sample - loss: 1.0130e-05 - acc: 1.0000 - val_loss: 9.4088e-06 - val_acc: 1.0000\n",
      "Epoch 52/100\n",
      "1105/1105 [==============================] - 0s 139us/sample - loss: 9.3091e-06 - acc: 1.0000 - val_loss: 8.6513e-06 - val_acc: 1.0000\n",
      "Epoch 53/100\n",
      "1105/1105 [==============================] - 0s 144us/sample - loss: 8.5568e-06 - acc: 1.0000 - val_loss: 7.9625e-06 - val_acc: 1.0000\n",
      "Epoch 54/100\n",
      "1105/1105 [==============================] - 0s 167us/sample - loss: 7.8632e-06 - acc: 1.0000 - val_loss: 7.3185e-06 - val_acc: 1.0000\n",
      "Epoch 55/100\n"
     ]
    },
    {
     "name": "stdout",
     "output_type": "stream",
     "text": [
      "1105/1105 [==============================] - 0s 138us/sample - loss: 7.2329e-06 - acc: 1.0000 - val_loss: 6.7356e-06 - val_acc: 1.0000\n",
      "Epoch 56/100\n",
      "1105/1105 [==============================] - 0s 133us/sample - loss: 6.6612e-06 - acc: 1.0000 - val_loss: 6.2090e-06 - val_acc: 1.0000\n",
      "Epoch 57/100\n",
      "1105/1105 [==============================] - 0s 133us/sample - loss: 6.1366e-06 - acc: 1.0000 - val_loss: 5.7201e-06 - val_acc: 1.0000\n",
      "Epoch 58/100\n",
      "1105/1105 [==============================] - 0s 133us/sample - loss: 5.6548e-06 - acc: 1.0000 - val_loss: 5.2803e-06 - val_acc: 1.0000\n",
      "Epoch 59/100\n",
      "1105/1105 [==============================] - 0s 142us/sample - loss: 5.2104e-06 - acc: 1.0000 - val_loss: 4.8672e-06 - val_acc: 1.0000\n",
      "Epoch 60/100\n",
      "1105/1105 [==============================] - 0s 143us/sample - loss: 4.8004e-06 - acc: 1.0000 - val_loss: 4.4880e-06 - val_acc: 1.0000\n",
      "Epoch 61/100\n",
      "1105/1105 [==============================] - 0s 137us/sample - loss: 4.4242e-06 - acc: 1.0000 - val_loss: 4.1405e-06 - val_acc: 1.0000\n",
      "Epoch 62/100\n",
      "1105/1105 [==============================] - 0s 145us/sample - loss: 4.0815e-06 - acc: 1.0000 - val_loss: 3.8235e-06 - val_acc: 1.0000\n",
      "Epoch 63/100\n",
      "1105/1105 [==============================] - 0s 131us/sample - loss: 3.7651e-06 - acc: 1.0000 - val_loss: 3.5244e-06 - val_acc: 1.0000\n",
      "Epoch 64/100\n",
      "1105/1105 [==============================] - 0s 132us/sample - loss: 3.4728e-06 - acc: 1.0000 - val_loss: 3.2535e-06 - val_acc: 1.0000\n",
      "Epoch 65/100\n",
      "1105/1105 [==============================] - 0s 136us/sample - loss: 3.2037e-06 - acc: 1.0000 - val_loss: 3.0048e-06 - val_acc: 1.0000\n",
      "Epoch 66/100\n",
      "1105/1105 [==============================] - 0s 147us/sample - loss: 2.9535e-06 - acc: 1.0000 - val_loss: 2.7732e-06 - val_acc: 1.0000\n",
      "Epoch 67/100\n",
      "1105/1105 [==============================] - 0s 140us/sample - loss: 2.7254e-06 - acc: 1.0000 - val_loss: 2.5574e-06 - val_acc: 1.0000\n",
      "Epoch 68/100\n",
      "1105/1105 [==============================] - 0s 133us/sample - loss: 2.5151e-06 - acc: 1.0000 - val_loss: 2.3648e-06 - val_acc: 1.0000\n",
      "Epoch 69/100\n",
      "1105/1105 [==============================] - 0s 130us/sample - loss: 2.3242e-06 - acc: 1.0000 - val_loss: 2.1836e-06 - val_acc: 1.0000\n",
      "Epoch 70/100\n",
      "1105/1105 [==============================] - 0s 143us/sample - loss: 2.1465e-06 - acc: 1.0000 - val_loss: 2.0117e-06 - val_acc: 1.0000\n",
      "Epoch 71/100\n",
      "1105/1105 [==============================] - 0s 135us/sample - loss: 1.9788e-06 - acc: 1.0000 - val_loss: 1.8607e-06 - val_acc: 1.0000\n",
      "Epoch 72/100\n",
      "1105/1105 [==============================] - 0s 133us/sample - loss: 1.8309e-06 - acc: 1.0000 - val_loss: 1.7219e-06 - val_acc: 1.0000\n",
      "Epoch 73/100\n",
      "1105/1105 [==============================] - 0s 142us/sample - loss: 1.6897e-06 - acc: 1.0000 - val_loss: 1.5934e-06 - val_acc: 1.0000\n",
      "Epoch 74/100\n",
      "1105/1105 [==============================] - 0s 136us/sample - loss: 1.5613e-06 - acc: 1.0000 - val_loss: 1.4692e-06 - val_acc: 1.0000\n",
      "Epoch 75/100\n",
      "1105/1105 [==============================] - 0s 132us/sample - loss: 1.4430e-06 - acc: 1.0000 - val_loss: 1.3574e-06 - val_acc: 1.0000\n",
      "Epoch 76/100\n",
      "1105/1105 [==============================] - 0s 134us/sample - loss: 1.3326e-06 - acc: 1.0000 - val_loss: 1.2541e-06 - val_acc: 1.0000\n",
      "Epoch 77/100\n",
      "1105/1105 [==============================] - 0s 134us/sample - loss: 1.2307e-06 - acc: 1.0000 - val_loss: 1.1626e-06 - val_acc: 1.0000\n",
      "Epoch 78/100\n",
      "1105/1105 [==============================] - 0s 148us/sample - loss: 1.1392e-06 - acc: 1.0000 - val_loss: 1.0735e-06 - val_acc: 1.0000\n",
      "Epoch 79/100\n",
      "1105/1105 [==============================] - 0s 135us/sample - loss: 1.0528e-06 - acc: 1.0000 - val_loss: 9.9219e-07 - val_acc: 1.0000\n",
      "Epoch 80/100\n",
      "1105/1105 [==============================] - 0s 131us/sample - loss: 9.7299e-07 - acc: 1.0000 - val_loss: 9.1731e-07 - val_acc: 1.0000\n",
      "Epoch 81/100\n",
      "1105/1105 [==============================] - 0s 132us/sample - loss: 8.9763e-07 - acc: 1.0000 - val_loss: 8.4802e-07 - val_acc: 1.0000\n",
      "Epoch 82/100\n",
      "1105/1105 [==============================] - 0s 136us/sample - loss: 8.3042e-07 - acc: 1.0000 - val_loss: 7.8906e-07 - val_acc: 1.0000\n",
      "Epoch 83/100\n",
      "1105/1105 [==============================] - 0s 148us/sample - loss: 7.6747e-07 - acc: 1.0000 - val_loss: 7.2472e-07 - val_acc: 1.0000\n",
      "Epoch 84/100\n",
      "1105/1105 [==============================] - 0s 134us/sample - loss: 7.0911e-07 - acc: 1.0000 - val_loss: 6.6706e-07 - val_acc: 1.0000\n",
      "Epoch 85/100\n",
      "1105/1105 [==============================] - 0s 132us/sample - loss: 6.5560e-07 - acc: 1.0000 - val_loss: 6.1799e-07 - val_acc: 1.0000\n",
      "Epoch 86/100\n",
      "1105/1105 [==============================] - 0s 133us/sample - loss: 6.0468e-07 - acc: 1.0000 - val_loss: 5.7388e-07 - val_acc: 1.0000\n",
      "Epoch 87/100\n",
      "1105/1105 [==============================] - 0s 142us/sample - loss: 5.5840e-07 - acc: 1.0000 - val_loss: 5.2934e-07 - val_acc: 1.0000\n",
      "Epoch 88/100\n",
      "1105/1105 [==============================] - 0s 133us/sample - loss: 5.1670e-07 - acc: 1.0000 - val_loss: 4.8975e-07 - val_acc: 1.0000\n",
      "Epoch 89/100\n",
      "1105/1105 [==============================] - 0s 131us/sample - loss: 4.7770e-07 - acc: 1.0000 - val_loss: 4.5381e-07 - val_acc: 1.0000\n",
      "Epoch 90/100\n",
      "1105/1105 [==============================] - 0s 132us/sample - loss: 4.4167e-07 - acc: 1.0000 - val_loss: 4.2132e-07 - val_acc: 1.0000\n",
      "Epoch 91/100\n",
      "1105/1105 [==============================] - 0s 140us/sample - loss: 4.0709e-07 - acc: 1.0000 - val_loss: 3.8388e-07 - val_acc: 1.0000\n",
      "Epoch 92/100\n",
      "1105/1105 [==============================] - 0s 145us/sample - loss: 3.7705e-07 - acc: 1.0000 - val_loss: 3.6107e-07 - val_acc: 1.0000\n",
      "Epoch 93/100\n",
      "1105/1105 [==============================] - 0s 142us/sample - loss: 3.4722e-07 - acc: 1.0000 - val_loss: 3.3374e-07 - val_acc: 1.0000\n",
      "Epoch 94/100\n",
      "1105/1105 [==============================] - 0s 143us/sample - loss: 3.2095e-07 - acc: 1.0000 - val_loss: 3.0900e-07 - val_acc: 1.0000\n",
      "Epoch 95/100\n",
      "1105/1105 [==============================] - 0s 147us/sample - loss: 2.9754e-07 - acc: 1.0000 - val_loss: 2.8361e-07 - val_acc: 1.0000\n",
      "Epoch 96/100\n",
      "1105/1105 [==============================] - 0s 137us/sample - loss: 2.7397e-07 - acc: 1.0000 - val_loss: 2.6144e-07 - val_acc: 1.0000\n",
      "Epoch 97/100\n",
      "1105/1105 [==============================] - 0s 131us/sample - loss: 2.5358e-07 - acc: 1.0000 - val_loss: 2.4229e-07 - val_acc: 1.0000\n",
      "Epoch 98/100\n",
      "1105/1105 [==============================] - 0s 136us/sample - loss: 2.3475e-07 - acc: 1.0000 - val_loss: 2.2443e-07 - val_acc: 1.0000\n",
      "Epoch 99/100\n",
      "1105/1105 [==============================] - 0s 147us/sample - loss: 2.1878e-07 - acc: 1.0000 - val_loss: 2.0829e-07 - val_acc: 1.0000\n",
      "Epoch 100/100\n",
      "1105/1105 [==============================] - 0s 132us/sample - loss: 2.0508e-07 - acc: 1.0000 - val_loss: 1.9517e-07 - val_acc: 1.0000\n"
     ]
    }
   ],
   "source": [
    "training = model.fit(X_trn, y_trn, epochs=100, batch_size=8, verbose=1,\n",
    "                     validation_split=0.2)"
   ]
  },
  {
   "cell_type": "markdown",
   "metadata": {},
   "source": [
    "## Evaluate the model"
   ]
  },
  {
   "cell_type": "code",
   "execution_count": 14,
   "metadata": {},
   "outputs": [
    {
     "name": "stdout",
     "output_type": "stream",
     "text": [
      "WARNING:tensorflow:Falling back from v2 loop because of error: Failed to find data adapter that can handle input: <class 'pandas.core.frame.DataFrame'>, <class 'NoneType'>\n",
      "346/346 [==============================] - 0s 33us/sample - loss: 2.0741e-07 - acc: 1.0000\n",
      "Test score: 2.0741040819071407e-07\n",
      "Test accuracy: 1.0\n"
     ]
    }
   ],
   "source": [
    "score, acc = model.evaluate(X_tst, y_tst, verbose=1)\n",
    "\n",
    "print('Test score:', score)\n",
    "print('Test accuracy:', acc)"
   ]
  },
  {
   "cell_type": "code",
   "execution_count": 15,
   "metadata": {},
   "outputs": [
    {
     "data": {
      "image/png": "[encoded data removed]",
      "text/plain": [
       "<Figure size 576x432 with 1 Axes>"
      ]
     },
     "metadata": {
      "needs_background": "light"
     },
     "output_type": "display_data"
    },
    {
     "data": {
      "image/png": "[encoded data removed]",
      "text/plain": [
       "<Figure size 576x432 with 1 Axes>"
      ]
     },
     "metadata": {
      "needs_background": "light"
     },
     "output_type": "display_data"
    }
   ],
   "source": [
    "import matplotlib.pyplot as plt\n",
    "\n",
    "plt.figure()\n",
    "plt.plot(training.history['loss'])\n",
    "plt.plot(training.history['val_loss'])\n",
    "plt.title('Model loss')\n",
    "plt.ylabel('loss')\n",
    "plt.xlabel('epoch')\n",
    "plt.legend(['train','test'], loc='upper left')\n",
    "plt.show()\n",
    "\n",
    "plt.figure()\n",
    "plt.plot(training.history['acc'])\n",
    "plt.plot(training.history['val_acc'])\n",
    "plt.title('Model accuracy')\n",
    "plt.ylabel('accuracy')\n",
    "plt.xlabel('epoch')\n",
    "plt.legend(['train','test'], loc='upper left')\n",
    "plt.show()"
   ]
  }
 ],
 "metadata": {
  "kernelspec": {
   "display_name": "Python 3",
   "language": "python",
   "name": "python3"
  },
  "language_info": {
   "codemirror_mode": {
    "name": "ipython",
    "version": 3
   },
   "file_extension": ".py",
   "mimetype": "text/x-python",
   "name": "python",
   "nbconvert_exporter": "python",
   "pygments_lexer": "ipython3",
   "version": "3.7.0"
  }
 },
 "nbformat": 4,
 "nbformat_minor": 2
}
